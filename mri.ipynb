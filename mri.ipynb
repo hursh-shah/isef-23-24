{
 "cells": [
  {
   "cell_type": "code",
   "execution_count": 1,
   "metadata": {},
   "outputs": [
    {
     "name": "stdout",
     "output_type": "stream",
     "text": [
      "Requirement already satisfied: torch in /Users/aryan/anaconda3/envs/asdrp/lib/python3.9/site-packages (2.0.1)\n",
      "Requirement already satisfied: torchvision in /Users/aryan/anaconda3/envs/asdrp/lib/python3.9/site-packages (0.15.2)\n",
      "Requirement already satisfied: filelock in /Users/aryan/anaconda3/envs/asdrp/lib/python3.9/site-packages (from torch) (3.12.2)\n",
      "Requirement already satisfied: typing-extensions in /Users/aryan/anaconda3/envs/asdrp/lib/python3.9/site-packages (from torch) (4.5.0)\n",
      "Requirement already satisfied: sympy in /Users/aryan/anaconda3/envs/asdrp/lib/python3.9/site-packages (from torch) (1.12)\n",
      "Requirement already satisfied: networkx in /Users/aryan/anaconda3/envs/asdrp/lib/python3.9/site-packages (from torch) (3.1)\n",
      "Requirement already satisfied: jinja2 in /Users/aryan/anaconda3/envs/asdrp/lib/python3.9/site-packages (from torch) (3.1.2)\n",
      "Requirement already satisfied: numpy in /Users/aryan/anaconda3/envs/asdrp/lib/python3.9/site-packages (from torchvision) (1.23.5)\n",
      "Requirement already satisfied: requests in /Users/aryan/anaconda3/envs/asdrp/lib/python3.9/site-packages (from torchvision) (2.31.0)\n",
      "Requirement already satisfied: pillow!=8.3.*,>=5.3.0 in /Users/aryan/anaconda3/envs/asdrp/lib/python3.9/site-packages (from torchvision) (9.5.0)\n",
      "Requirement already satisfied: MarkupSafe>=2.0 in /Users/aryan/anaconda3/envs/asdrp/lib/python3.9/site-packages (from jinja2->torch) (2.1.3)\n",
      "Requirement already satisfied: charset-normalizer<4,>=2 in /Users/aryan/anaconda3/envs/asdrp/lib/python3.9/site-packages (from requests->torchvision) (3.1.0)\n",
      "Requirement already satisfied: idna<4,>=2.5 in /Users/aryan/anaconda3/envs/asdrp/lib/python3.9/site-packages (from requests->torchvision) (3.4)\n",
      "Requirement already satisfied: urllib3<3,>=1.21.1 in /Users/aryan/anaconda3/envs/asdrp/lib/python3.9/site-packages (from requests->torchvision) (1.26.16)\n",
      "Requirement already satisfied: certifi>=2017.4.17 in /Users/aryan/anaconda3/envs/asdrp/lib/python3.9/site-packages (from requests->torchvision) (2023.5.7)\n",
      "Requirement already satisfied: mpmath>=0.19 in /Users/aryan/anaconda3/envs/asdrp/lib/python3.9/site-packages (from sympy->torch) (1.3.0)\n",
      "Note: you may need to restart the kernel to use updated packages.\n"
     ]
    }
   ],
   "source": [
    "pip install torch torchvision\n"
   ]
  },
  {
   "cell_type": "code",
   "execution_count": null,
   "metadata": {},
   "outputs": [],
   "source": [
    "import torch\n",
    "from torchvision import datasets, transforms\n",
    "from torch.utils.data import DataLoader\n",
    "\n",
    "# Define your transformations for data augmentation\n",
    "data_transforms = transforms.Compose([\n",
    "    transforms.RandomRotation(degrees=10),  # Rotate images by up to 10 degrees\n",
    "    transforms.RandomHorizontalFlip(),  # Apply horizontal flip randomly\n",
    "    transforms.RandomResizedCrop(size=(256, 256), scale=(0.8, 1.0)),  # Randomly crop and resize images\n",
    "    transforms.ToTensor(),  # Convert images to PyTorch tensors\n",
    "    # You can add more transformations here as needed\n",
    "])\n",
    "\n",
    "# Assuming your MRI images are stored in a directory structure\n",
    "# with separate subdirectories for 'demented' and 'non-demented' classes\n",
    "# e.g., 'path_to_your_images/train/demented' and 'path_to_your_images/train/non-demented'\n",
    "dataset = datasets.ImageFolder(root='path_to_your_images/train', transform=data_transforms)\n",
    "\n",
    "# Create a DataLoader to iterate through the augmented dataset\n",
    "dataloader = DataLoader(dataset, batch_size=32, shuffle=True)\n",
    "\n",
    "# Example: Iterate over the DataLoader and process the data\n",
    "for images, labels in dataloader:\n",
    "    # Here, images are the augmented images, and labels are their corresponding labels\n",
    "    # You can now feed these to your model for training\n",
    "    pass"
   ]
  }
 ],
 "metadata": {
  "kernelspec": {
   "display_name": "asdrp",
   "language": "python",
   "name": "python3"
  },
  "language_info": {
   "codemirror_mode": {
    "name": "ipython",
    "version": 3
   },
   "file_extension": ".py",
   "mimetype": "text/x-python",
   "name": "python",
   "nbconvert_exporter": "python",
   "pygments_lexer": "ipython3",
   "version": "3.9.16"
  }
 },
 "nbformat": 4,
 "nbformat_minor": 2
}
