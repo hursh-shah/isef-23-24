{
 "cells": [
  {
   "cell_type": "code",
   "execution_count": 1,
   "metadata": {},
   "outputs": [
    {
     "name": "stdout",
     "output_type": "stream",
     "text": [
      "Requirement already satisfied: qiskit in /Users/aryan/anaconda3/envs/asdrp/lib/python3.9/site-packages (0.45.1)\n",
      "Requirement already satisfied: qiskit-terra==0.45.1 in /Users/aryan/anaconda3/envs/asdrp/lib/python3.9/site-packages (from qiskit) (0.45.1)\n",
      "Requirement already satisfied: rustworkx>=0.13.0 in /Users/aryan/anaconda3/envs/asdrp/lib/python3.9/site-packages (from qiskit-terra==0.45.1->qiskit) (0.13.2)\n",
      "Requirement already satisfied: numpy<2,>=1.17 in /Users/aryan/anaconda3/envs/asdrp/lib/python3.9/site-packages (from qiskit-terra==0.45.1->qiskit) (1.23.5)\n",
      "Requirement already satisfied: ply>=3.10 in /Users/aryan/anaconda3/envs/asdrp/lib/python3.9/site-packages (from qiskit-terra==0.45.1->qiskit) (3.11)\n",
      "Requirement already satisfied: psutil>=5 in /Users/aryan/anaconda3/envs/asdrp/lib/python3.9/site-packages (from qiskit-terra==0.45.1->qiskit) (5.9.5)\n",
      "Requirement already satisfied: scipy>=1.5 in /Users/aryan/anaconda3/envs/asdrp/lib/python3.9/site-packages (from qiskit-terra==0.45.1->qiskit) (1.11.0)\n",
      "Requirement already satisfied: sympy>=1.3 in /Users/aryan/anaconda3/envs/asdrp/lib/python3.9/site-packages (from qiskit-terra==0.45.1->qiskit) (1.12)\n",
      "Requirement already satisfied: dill>=0.3 in /Users/aryan/anaconda3/envs/asdrp/lib/python3.9/site-packages (from qiskit-terra==0.45.1->qiskit) (0.3.6)\n",
      "Requirement already satisfied: python-dateutil>=2.8.0 in /Users/aryan/anaconda3/envs/asdrp/lib/python3.9/site-packages (from qiskit-terra==0.45.1->qiskit) (2.8.2)\n",
      "Requirement already satisfied: stevedore>=3.0.0 in /Users/aryan/anaconda3/envs/asdrp/lib/python3.9/site-packages (from qiskit-terra==0.45.1->qiskit) (5.1.0)\n",
      "Requirement already satisfied: symengine!=0.10.0,>=0.9 in /Users/aryan/anaconda3/envs/asdrp/lib/python3.9/site-packages (from qiskit-terra==0.45.1->qiskit) (0.11.0)\n",
      "Requirement already satisfied: typing-extensions in /Users/aryan/anaconda3/envs/asdrp/lib/python3.9/site-packages (from qiskit-terra==0.45.1->qiskit) (4.5.0)\n",
      "Requirement already satisfied: six>=1.5 in /Users/aryan/anaconda3/envs/asdrp/lib/python3.9/site-packages (from python-dateutil>=2.8.0->qiskit-terra==0.45.1->qiskit) (1.16.0)\n",
      "Requirement already satisfied: pbr!=2.1.0,>=2.0.0 in /Users/aryan/anaconda3/envs/asdrp/lib/python3.9/site-packages (from stevedore>=3.0.0->qiskit-terra==0.45.1->qiskit) (6.0.0)\n",
      "Requirement already satisfied: mpmath>=0.19 in /Users/aryan/anaconda3/envs/asdrp/lib/python3.9/site-packages (from sympy>=1.3->qiskit-terra==0.45.1->qiskit) (1.3.0)\n",
      "Note: you may need to restart the kernel to use updated packages.\n"
     ]
    }
   ],
   "source": [
    "pip install qiskit"
   ]
  },
  {
   "cell_type": "code",
   "execution_count": 7,
   "metadata": {},
   "outputs": [],
   "source": [
    "import qiskit\n",
    "from qiskit.circuit.library import HGate  # Import HGate here\n",
    "\n",
    "\n",
    "class QuantumCircuit:\n",
    "    def __init__(self, num_qubits):\n",
    "        self.num_qubits = num_qubits\n",
    "        self.qc = qiskit.QuantumCircuit(num_qubits, num_qubits)  # Add num_qubits classical bits\n",
    "    \n",
    "    def add_noise_model(self, noise_model):\n",
    "        self.qc.noise_model = noise_model\n",
    "    \n",
    "    def apply_gate(self, gate, target_qubits):\n",
    "        self.qc.append(gate, target_qubits)\n",
    "    \n",
    "    def measure(self, target_qubits):\n",
    "        for qubit in target_qubits:\n",
    "            self.qc.measure(qubit, qubit)  # Measure each qubit to its corresponding classical bit\n",
    "    \n",
    "    def simulate(self, shots=1024):\n",
    "        backend = qiskit.Aer.get_backend('qasm_simulator')\n",
    "        job = qiskit.execute(self.qc, backend, shots=shots)\n",
    "        result = job.result().get_counts()\n",
    "        return result"
   ]
  },
  {
   "cell_type": "code",
   "execution_count": 8,
   "metadata": {},
   "outputs": [],
   "source": [
    "import tensorflow as tf\n",
    "\n",
    "class QuantumNeuralNetwork:\n",
    "    def __init__(self, num_qubits, num_classes):\n",
    "        self.num_qubits = num_qubits\n",
    "        self.num_classes = num_classes\n",
    "        self.qc = QuantumCircuit(num_qubits)\n",
    "        self.model = self.build_model()\n",
    "    \n",
    "    def build_model(self):\n",
    "        model = tf.keras.Sequential([\n",
    "            tf.keras.layers.Dense(self.num_qubits, activation='relu'),\n",
    "            tf.keras.layers.Dense(self.num_classes, activation='softmax')\n",
    "        ])\n",
    "        return model\n",
    "    \n",
    "    def train(self, x_train, y_train, epochs=10):\n",
    "        self.model.compile(optimizer='adam', loss='sparse_categorical_crossentropy', metrics=['accuracy'])\n",
    "        self.model.fit(x_train, y_train, epochs=epochs)\n",
    "    \n",
    "    def predict(self, x_test):\n",
    "        predictions = self.model.predict(x_test)\n",
    "        return predictions"
   ]
  },
  {
   "cell_type": "code",
   "execution_count": 9,
   "metadata": {},
   "outputs": [
    {
     "name": "stdout",
     "output_type": "stream",
     "text": [
      "Requirement already satisfied: qiskit-aer in /Users/aryan/anaconda3/envs/asdrp/lib/python3.9/site-packages (0.13.1)\n",
      "Requirement already satisfied: qiskit>=0.44.0 in /Users/aryan/anaconda3/envs/asdrp/lib/python3.9/site-packages (from qiskit-aer) (0.45.1)\n",
      "Requirement already satisfied: numpy>=1.16.3 in /Users/aryan/anaconda3/envs/asdrp/lib/python3.9/site-packages (from qiskit-aer) (1.23.5)\n",
      "Requirement already satisfied: scipy>=1.0 in /Users/aryan/anaconda3/envs/asdrp/lib/python3.9/site-packages (from qiskit-aer) (1.11.0)\n",
      "Requirement already satisfied: psutil>=5 in /Users/aryan/anaconda3/envs/asdrp/lib/python3.9/site-packages (from qiskit-aer) (5.9.5)\n",
      "Requirement already satisfied: qiskit-terra==0.45.1 in /Users/aryan/anaconda3/envs/asdrp/lib/python3.9/site-packages (from qiskit>=0.44.0->qiskit-aer) (0.45.1)\n",
      "Requirement already satisfied: rustworkx>=0.13.0 in /Users/aryan/anaconda3/envs/asdrp/lib/python3.9/site-packages (from qiskit-terra==0.45.1->qiskit>=0.44.0->qiskit-aer) (0.13.2)\n",
      "Requirement already satisfied: ply>=3.10 in /Users/aryan/anaconda3/envs/asdrp/lib/python3.9/site-packages (from qiskit-terra==0.45.1->qiskit>=0.44.0->qiskit-aer) (3.11)\n",
      "Requirement already satisfied: sympy>=1.3 in /Users/aryan/anaconda3/envs/asdrp/lib/python3.9/site-packages (from qiskit-terra==0.45.1->qiskit>=0.44.0->qiskit-aer) (1.12)\n",
      "Requirement already satisfied: dill>=0.3 in /Users/aryan/anaconda3/envs/asdrp/lib/python3.9/site-packages (from qiskit-terra==0.45.1->qiskit>=0.44.0->qiskit-aer) (0.3.6)\n",
      "Requirement already satisfied: python-dateutil>=2.8.0 in /Users/aryan/anaconda3/envs/asdrp/lib/python3.9/site-packages (from qiskit-terra==0.45.1->qiskit>=0.44.0->qiskit-aer) (2.8.2)\n",
      "Requirement already satisfied: stevedore>=3.0.0 in /Users/aryan/anaconda3/envs/asdrp/lib/python3.9/site-packages (from qiskit-terra==0.45.1->qiskit>=0.44.0->qiskit-aer) (5.1.0)\n",
      "Requirement already satisfied: symengine!=0.10.0,>=0.9 in /Users/aryan/anaconda3/envs/asdrp/lib/python3.9/site-packages (from qiskit-terra==0.45.1->qiskit>=0.44.0->qiskit-aer) (0.11.0)\n",
      "Requirement already satisfied: typing-extensions in /Users/aryan/anaconda3/envs/asdrp/lib/python3.9/site-packages (from qiskit-terra==0.45.1->qiskit>=0.44.0->qiskit-aer) (4.5.0)\n",
      "Requirement already satisfied: six>=1.5 in /Users/aryan/anaconda3/envs/asdrp/lib/python3.9/site-packages (from python-dateutil>=2.8.0->qiskit-terra==0.45.1->qiskit>=0.44.0->qiskit-aer) (1.16.0)\n",
      "Requirement already satisfied: pbr!=2.1.0,>=2.0.0 in /Users/aryan/anaconda3/envs/asdrp/lib/python3.9/site-packages (from stevedore>=3.0.0->qiskit-terra==0.45.1->qiskit>=0.44.0->qiskit-aer) (6.0.0)\n",
      "Requirement already satisfied: mpmath>=0.19 in /Users/aryan/anaconda3/envs/asdrp/lib/python3.9/site-packages (from sympy>=1.3->qiskit-terra==0.45.1->qiskit>=0.44.0->qiskit-aer) (1.3.0)\n",
      "Note: you may need to restart the kernel to use updated packages.\n"
     ]
    }
   ],
   "source": [
    "pip install qiskit-aer\n"
   ]
  },
  {
   "cell_type": "code",
   "execution_count": 10,
   "metadata": {},
   "outputs": [],
   "source": [
    "from qiskit.providers.aer.noise import NoiseModel, depolarizing_error\n",
    "\n",
    "# Define a basic noise model\n",
    "def create_basic_noise_model(one_qubit_error_rate, two_qubit_error_rate):\n",
    "    noise_model = NoiseModel()\n",
    "    \n",
    "    # Apply a depolarizing error to all single-qubit gates\n",
    "    one_qubit_error = depolarizing_error(one_qubit_error_rate, 1)\n",
    "    for gate in ['u1', 'u2', 'u3']:\n",
    "        noise_model.add_all_qubit_quantum_error(one_qubit_error, gate)\n",
    "    \n",
    "    # Apply a different depolarizing error to all two-qubit gates\n",
    "    two_qubit_error = depolarizing_error(two_qubit_error_rate, 2)\n",
    "    noise_model.add_all_qubit_quantum_error(two_qubit_error, 'cx')\n",
    "    \n",
    "    return noise_model\n",
    "\n",
    "# Instantiate the noise model with specific error rates\n",
    "noise_model = create_basic_noise_model(0.01, 0.02)  # Example error rates for 1-qubit and 2-qubit gates\n"
   ]
  },
  {
   "cell_type": "code",
   "execution_count": 12,
   "metadata": {},
   "outputs": [
    {
     "name": "stdout",
     "output_type": "stream",
     "text": [
      "{'00': 508, '01': 516}\n"
     ]
    }
   ],
   "source": [
    "# Example usage of your QuantumCircuit class\n",
    "qc = QuantumCircuit(num_qubits=2)\n",
    "# Assume noise_model is defined somewhere in your code\n",
    "qc.add_noise_model(noise_model)\n",
    "qc.apply_gate(HGate(), target_qubits=[0])  # Corrected usage of HGate\n",
    "qc.measure(target_qubits=[0, 1])\n",
    "result = qc.simulate(shots=1024)\n",
    "\n",
    "print(result)\n"
   ]
  },
  {
   "cell_type": "code",
   "execution_count": null,
   "metadata": {},
   "outputs": [],
   "source": []
  }
 ],
 "metadata": {
  "kernelspec": {
   "display_name": "asdrp",
   "language": "python",
   "name": "python3"
  },
  "language_info": {
   "codemirror_mode": {
    "name": "ipython",
    "version": 3
   },
   "file_extension": ".py",
   "mimetype": "text/x-python",
   "name": "python",
   "nbconvert_exporter": "python",
   "pygments_lexer": "ipython3",
   "version": "3.9.16"
  }
 },
 "nbformat": 4,
 "nbformat_minor": 2
}
